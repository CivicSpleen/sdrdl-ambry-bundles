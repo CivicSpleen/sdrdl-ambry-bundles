{
 "metadata": {
  "name": "",
  "signature": "sha256:b00eb29a0887ad310ce9b7b165289414e2c818eb44ecf0ada9394785dfa0655f"
 },
 "nbformat": 3,
 "nbformat_minor": 0,
 "worksheets": [
  {
   "cells": [
    {
     "cell_type": "code",
     "collapsed": false,
     "input": [
      "%matplotlib inline\n",
      "import pandas as pd\n",
      "from ambry.bundle import BuildBundle\n",
      "import os\n",
      "b = BuildBundle(os.getcwd())\n",
      "\n",
      "for p in b.partitions:\n",
      "    print p.identity\n",
      "\n",
      "p = b.partitions.all[0]\n",
      "    \n",
      "df = p.pandas "
     ],
     "language": "python",
     "metadata": {},
     "outputs": [
      {
       "output_type": "stream",
       "stream": "stdout",
       "text": [
        "livegoode.com-monharc-referrals-0.0.1~p03I001001\n",
        "livegoode.com-monharc-direferrals-0.0.1~p03I002001\n"
       ]
      }
     ],
     "prompt_number": 50
    },
    {
     "cell_type": "code",
     "collapsed": false,
     "input": [
      "df.head()"
     ],
     "language": "python",
     "metadata": {},
     "outputs": [
      {
       "html": [
        "<div style=\"max-height:1000px;max-width:1500px;overflow:auto;\">\n",
        "<table border=\"1\" class=\"dataframe\">\n",
        "  <thead>\n",
        "    <tr style=\"text-align: right;\">\n",
        "      <th></th>\n",
        "      <th>id</th>\n",
        "      <th>timestamp</th>\n",
        "      <th>last_name</th>\n",
        "      <th>first_name</th>\n",
        "      <th>grade</th>\n",
        "      <th>date_and_time_of_misbehavior</th>\n",
        "      <th>location_of_misbehavior</th>\n",
        "      <th>documenting_staff_member</th>\n",
        "      <th>classroom_or_administrative_managed</th>\n",
        "      <th>type_of_misbehavior</th>\n",
        "      <th>narrative_description_of_misbehavior</th>\n",
        "      <th>consequence</th>\n",
        "      <th>reporting_staff_member</th>\n",
        "      <th>d12_planning_completed</th>\n",
        "      <th>narrative_of_consequence</th>\n",
        "    </tr>\n",
        "  </thead>\n",
        "  <tbody>\n",
        "    <tr>\n",
        "      <th>1</th>\n",
        "      <td> 1</td>\n",
        "      <td> 2015-01-05 12:56:00.000000</td>\n",
        "      <td>   Abdul</td>\n",
        "      <td> Sufyan</td>\n",
        "      <td> 2</td>\n",
        "      <td> 2015-01-05 11:25:00.000000</td>\n",
        "      <td>            Blacktop</td>\n",
        "      <td>           Abdi</td>\n",
        "      <td> Administrative</td>\n",
        "      <td>                             Major Defiances (D12)</td>\n",
        "      <td> Sufyan  was off task during class instruction....</td>\n",
        "      <td>                                   Lunch Detention</td>\n",
        "      <td>           Ms.Rox</td>\n",
        "      <td> A, B, C, D</td>\n",
        "      <td> Sufyan receive lunch detention for his action ...</td>\n",
        "    </tr>\n",
        "    <tr>\n",
        "      <th>2</th>\n",
        "      <td> 2</td>\n",
        "      <td> 2014-03-11 10:02:00.000000</td>\n",
        "      <td> Achuoth</td>\n",
        "      <td>   Riel</td>\n",
        "      <td> 4</td>\n",
        "      <td> 2014-02-05 11:40:00.000000</td>\n",
        "      <td>                  PE</td>\n",
        "      <td> Alberto Barron</td>\n",
        "      <td> Administrative</td>\n",
        "      <td> Play fighting (CM), Verbal/Physical Intimidati...</td>\n",
        "      <td> student pushed another student in PE and also ...</td>\n",
        "      <td> Verbal warning with reminder of positive expec...</td>\n",
        "      <td>           Mr. Mo</td>\n",
        "      <td> A, B, C, D</td>\n",
        "      <td>                                              None</td>\n",
        "    </tr>\n",
        "    <tr>\n",
        "      <th>3</th>\n",
        "      <td> 3</td>\n",
        "      <td> 2014-03-03 09:52:00.000000</td>\n",
        "      <td> Achuoth</td>\n",
        "      <td>   Riel</td>\n",
        "      <td> 4</td>\n",
        "      <td> 2014-02-21 12:45:00.000000</td>\n",
        "      <td>                  PE</td>\n",
        "      <td> Alberto Barron</td>\n",
        "      <td> Administrative</td>\n",
        "      <td> Minor Disruptions (CM), Recurring teacher mana...</td>\n",
        "      <td> Student was involved in an ongoing problem of ...</td>\n",
        "      <td> Verbal warning with reminder of positive expec...</td>\n",
        "      <td> Coach Chuy Nunez</td>\n",
        "      <td> A, B, C, D</td>\n",
        "      <td> All students involved were brought in for medi...</td>\n",
        "    </tr>\n",
        "    <tr>\n",
        "      <th>4</th>\n",
        "      <td> 4</td>\n",
        "      <td> 2014-04-07 10:44:00.000000</td>\n",
        "      <td> Achuoth</td>\n",
        "      <td>   Riel</td>\n",
        "      <td> 4</td>\n",
        "      <td> 2014-04-04 09:11:00.000000</td>\n",
        "      <td> 4th grade classroom</td>\n",
        "      <td> Alberto Barron</td>\n",
        "      <td> Administrative</td>\n",
        "      <td> Minor Disruptions (CM), Non-compliance/off-tas...</td>\n",
        "      <td> Student was upset and not listening to staff w...</td>\n",
        "      <td> Verbal warning with reminder of positive expec...</td>\n",
        "      <td>      Mr. Alfredo</td>\n",
        "      <td> A, B, C, D</td>\n",
        "      <td>                                              None</td>\n",
        "    </tr>\n",
        "    <tr>\n",
        "      <th>5</th>\n",
        "      <td> 5</td>\n",
        "      <td> 2014-04-16 09:27:00.000000</td>\n",
        "      <td> Achuoth</td>\n",
        "      <td>   Riel</td>\n",
        "      <td> 4</td>\n",
        "      <td> 2014-04-15 12:00:00.000000</td>\n",
        "      <td>                Yoga</td>\n",
        "      <td> Alberto Barron</td>\n",
        "      <td> Administrative</td>\n",
        "      <td> Minor Disruptions (CM), Non-compliance/off-tas...</td>\n",
        "      <td> Throwing markers in a fit, refused to come to ...</td>\n",
        "      <td> Verbal warning with reminder of positive expec...</td>\n",
        "      <td>      Ms. Chandra</td>\n",
        "      <td> A, B, C, D</td>\n",
        "      <td>                                              None</td>\n",
        "    </tr>\n",
        "  </tbody>\n",
        "</table>\n",
        "</div>"
       ],
       "metadata": {},
       "output_type": "pyout",
       "prompt_number": 51,
       "text": [
        "   id                   timestamp last_name first_name  grade  \\\n",
        "1   1  2015-01-05 12:56:00.000000     Abdul     Sufyan      2   \n",
        "2   2  2014-03-11 10:02:00.000000   Achuoth       Riel      4   \n",
        "3   3  2014-03-03 09:52:00.000000   Achuoth       Riel      4   \n",
        "4   4  2014-04-07 10:44:00.000000   Achuoth       Riel      4   \n",
        "5   5  2014-04-16 09:27:00.000000   Achuoth       Riel      4   \n",
        "\n",
        "  date_and_time_of_misbehavior location_of_misbehavior  \\\n",
        "1   2015-01-05 11:25:00.000000                Blacktop   \n",
        "2   2014-02-05 11:40:00.000000                      PE   \n",
        "3   2014-02-21 12:45:00.000000                      PE   \n",
        "4   2014-04-04 09:11:00.000000     4th grade classroom   \n",
        "5   2014-04-15 12:00:00.000000                    Yoga   \n",
        "\n",
        "  documenting_staff_member classroom_or_administrative_managed  \\\n",
        "1                     Abdi                      Administrative   \n",
        "2           Alberto Barron                      Administrative   \n",
        "3           Alberto Barron                      Administrative   \n",
        "4           Alberto Barron                      Administrative   \n",
        "5           Alberto Barron                      Administrative   \n",
        "\n",
        "                                 type_of_misbehavior  \\\n",
        "1                              Major Defiances (D12)   \n",
        "2  Play fighting (CM), Verbal/Physical Intimidati...   \n",
        "3  Minor Disruptions (CM), Recurring teacher mana...   \n",
        "4  Minor Disruptions (CM), Non-compliance/off-tas...   \n",
        "5  Minor Disruptions (CM), Non-compliance/off-tas...   \n",
        "\n",
        "                narrative_description_of_misbehavior  \\\n",
        "1  Sufyan  was off task during class instruction....   \n",
        "2  student pushed another student in PE and also ...   \n",
        "3  Student was involved in an ongoing problem of ...   \n",
        "4  Student was upset and not listening to staff w...   \n",
        "5  Throwing markers in a fit, refused to come to ...   \n",
        "\n",
        "                                         consequence reporting_staff_member  \\\n",
        "1                                    Lunch Detention                 Ms.Rox   \n",
        "2  Verbal warning with reminder of positive expec...                 Mr. Mo   \n",
        "3  Verbal warning with reminder of positive expec...       Coach Chuy Nunez   \n",
        "4  Verbal warning with reminder of positive expec...            Mr. Alfredo   \n",
        "5  Verbal warning with reminder of positive expec...            Ms. Chandra   \n",
        "\n",
        "  d12_planning_completed                           narrative_of_consequence  \n",
        "1             A, B, C, D  Sufyan receive lunch detention for his action ...  \n",
        "2             A, B, C, D                                               None  \n",
        "3             A, B, C, D  All students involved were brought in for medi...  \n",
        "4             A, B, C, D                                               None  \n",
        "5             A, B, C, D                                               None  "
       ]
      }
     ],
     "prompt_number": 51
    },
    {
     "cell_type": "code",
     "collapsed": false,
     "input": [
      "df.reporting_staff_member.value_counts().to_csv('reporters.csv')\n"
     ],
     "language": "python",
     "metadata": {},
     "outputs": [],
     "prompt_number": 53
    },
    {
     "cell_type": "code",
     "collapsed": false,
     "input": [
      "df.grade.hist()"
     ],
     "language": "python",
     "metadata": {},
     "outputs": [
      {
       "metadata": {},
       "output_type": "pyout",
       "prompt_number": 46,
       "text": [
        "<matplotlib.axes.AxesSubplot at 0x10c290250>"
       ]
      },
      {
       "metadata": {},
       "output_type": "display_data",
       "png": "[encoded data removed]",
       "text": [
        "<matplotlib.figure.Figure at 0x10c290e50>"
       ]
      }
     ],
     "prompt_number": 46
    },
    {
     "cell_type": "code",
     "collapsed": false,
     "input": [
      "dt = pd.to_datetime(df.date_and_time_of_misbehavior)"
     ],
     "language": "python",
     "metadata": {},
     "outputs": [],
     "prompt_number": 24
    },
    {
     "cell_type": "code",
     "collapsed": false,
     "input": [
      "df.date_and_time_of_misbehavior.dt.hour.hist(bins=24)"
     ],
     "language": "python",
     "metadata": {},
     "outputs": [
      {
       "metadata": {},
       "output_type": "pyout",
       "prompt_number": 30,
       "text": [
        "<matplotlib.axes.AxesSubplot at 0x10859b090>"
       ]
      },
      {
       "metadata": {},
       "output_type": "display_data",
       "png": "[encoded data removed]",
       "text": [
        "<matplotlib.figure.Figure at 0x10858e850>"
       ]
      }
     ],
     "prompt_number": 30
    },
    {
     "cell_type": "code",
     "collapsed": false,
     "input": [
      "df.date_and_time_of_misbehavior.dt.month.hist(bins=12)"
     ],
     "language": "python",
     "metadata": {},
     "outputs": [
      {
       "metadata": {},
       "output_type": "pyout",
       "prompt_number": 33,
       "text": [
        "<matplotlib.axes.AxesSubplot at 0x1086323d0>"
       ]
      },
      {
       "metadata": {},
       "output_type": "display_data",
       "png": "[encoded data removed]",
       "text": [
        "<matplotlib.figure.Figure at 0x10bf77610>"
       ]
      }
     ],
     "prompt_number": 33
    },
    {
     "cell_type": "code",
     "collapsed": false,
     "input": [
      "(df.first_name + \" \" + df.last_name).value_counts()"
     ],
     "language": "python",
     "metadata": {},
     "outputs": [
      {
       "metadata": {},
       "output_type": "pyout",
       "prompt_number": 36,
       "text": [
        "Brianna Walker       31\n",
        "Lamaryon Shaw        29\n",
        "Shonti Laster        29\n",
        "Angel Peterson       23\n",
        "Abraham Castaneda    21\n",
        "Tay Tay Achuoth      21\n",
        "Jaalam Chavez        17\n",
        "Alex Torres          16\n",
        "Victor Caperon       16\n",
        "Riel Achuoth         16\n",
        "Angel Quezada        14\n",
        "William Mancilla     13\n",
        "Benjamin Soto        13\n",
        "Erick Maceo          12\n",
        "Vicky Quezada        12\n",
        "...\n",
        "Josh Velasquez             1\n",
        "Michael Lane               1\n",
        "Elia Moto                  1\n",
        "Uli Izucar                 1\n",
        "Javier nelson              1\n",
        "Anthony Servin             1\n",
        "Christopher Perez          1\n",
        "Keenan Gore                1\n",
        "Jasmine Ramos              1\n",
        "Adrian Estrada             1\n",
        "Erendira Narnjo            1\n",
        "Jacky Loera                1\n",
        "Gabriel Villa-Cervartes    1\n",
        "David Carrillo             1\n",
        "Sedrick LIpscomb           1\n",
        "Length: 275, dtype: int64"
       ]
      }
     ],
     "prompt_number": 36
    },
    {
     "cell_type": "code",
     "collapsed": false,
     "input": [],
     "language": "python",
     "metadata": {},
     "outputs": []
    }
   ],
   "metadata": {}
  }
 ]
}